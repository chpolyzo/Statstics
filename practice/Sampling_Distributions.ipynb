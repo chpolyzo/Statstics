{
 "cells": [
  {
   "cell_type": "markdown",
   "metadata": {},
   "source": [
    "### Sampling Distributions done by Chrysanthi.Mentor.DAND\n",
    "\n",
    "In order to gain a bit more comfort with this idea of sampling distributions, let's do some practice in python.\n",
    "\n",
    "Below is an array that represents the students we saw in the previous videos, where 1 represents the students that drink coffee, and 0 represents the students that do not drink coffee."
   ]
  },
  {
   "cell_type": "code",
   "execution_count": 3,
   "metadata": {},
   "outputs": [],
   "source": [
    "import numpy as np\n",
    "np.random.seed(42)\n",
    "import matplotlib.pyplot as plt\n",
    "\n",
    "students = np.array([1,0,1,1,1,1,0,0,0,0,1,1,1,1,1,1,1,1,1,1,0])"
   ]
  },
  {
   "cell_type": "markdown",
   "metadata": {},
   "source": [
    "`1.` Find the proportion of students who drink coffee in the above array. Store this value in a variable **p**."
   ]
  },
  {
   "cell_type": "code",
   "execution_count": 4,
   "metadata": {},
   "outputs": [
    {
     "name": "stdout",
     "output_type": "stream",
     "text": [
      "21\n",
      "15\n",
      "6\n",
      "0.7142857142857143\n",
      "0.2857142857142857\n"
     ]
    }
   ],
   "source": [
    "#I use len() to find the lenght of my array thus the number of all students present in my numpy array\n",
    "print(len(students))\n",
    "#I create boolean masks, coffe_drinkers and non_coffe_drinkers. Then I sum up true and false values\n",
    "coffee = (students == 1).sum()\n",
    "non_coffee= (students == 0).sum()\n",
    "print(coffee)\n",
    "print(non_coffee)\n",
    "#I calculate proportion of coffee dirnkers and non coffee drinkers\n",
    "coffee_prop = coffee/len(students)\n",
    "non_coffee_prop = non_coffee/len(students)\n",
    "print(coffee_prop)\n",
    "print(non_coffee_prop)\n",
    "p = coffee_prop"
   ]
  },
  {
   "cell_type": "code",
   "execution_count": 5,
   "metadata": {},
   "outputs": [
    {
     "name": "stdout",
     "output_type": "stream",
     "text": [
      "0.7142857142857143\n"
     ]
    }
   ],
   "source": [
    "#As data analysts though we can make our lives easier as Josh is proposing\n",
    "#We are lucky we have only two values in our array 0 and 1 - it would not work for more different values (es. choc drinkers)\n",
    "#Since we have an array made out of 0 and 1, if we found the mean of this array the result is equal to the of coffe drinkers\n",
    "students.mean()\n",
    "p = students.mean() # this is the same as coffee_prop but I overwrite for the sake of semplicity\n",
    "print(p)"
   ]
  },
  {
   "cell_type": "markdown",
   "metadata": {},
   "source": [
    "`2.` Use numpy's **random.choice** to simulate 5 draws from the `students` array.  What is proportion of your sample drink coffee?"
   ]
  },
  {
   "cell_type": "code",
   "execution_count": 6,
   "metadata": {},
   "outputs": [
    {
     "name": "stdout",
     "output_type": "stream",
     "text": [
      "[0 1 1 1 0]\n"
     ]
    }
   ],
   "source": [
    "#I use np.random.choice() to simulate a random sample of five values taken from my student array\n",
    "student_sample = np.random.choice(students, 5, replace=True)\n",
    "print(student_sample)"
   ]
  },
  {
   "cell_type": "markdown",
   "metadata": {},
   "source": [
    "`3.` Repeat the above to obtain 10,000 additional proportions, where each sample was of size 5.  Store these in a variable called `sample_props`."
   ]
  },
  {
   "cell_type": "code",
   "execution_count": 7,
   "metadata": {},
   "outputs": [
    {
     "name": "stdout",
     "output_type": "stream",
     "text": [
      "My students array is: [1 0 1 1 1 1 0 0 0 0 1 1 1 1 1 1 1 1 1 1 0]\n",
      "My enumerator container is: 10000\n",
      "My last sample simulation is: [1 1 1 1 1]\n",
      "[1.0, 0.8, 0.6, 0.6, 1.0]\n"
     ]
    }
   ],
   "source": [
    "#I use the above lines of code to obtain not one, but 10 000 random samples of five values, \n",
    "#taken from my very same student array. I print my student array\n",
    "print('My students array is: {}'.format(students))\n",
    "#For my for loop, I have to initialize an empty list where I will keep my 10 000 samples\n",
    "sample_props = []\n",
    "#I use value instead of _ that Josh is using\n",
    "#We use _ when we are not interested in the specific value in our for loop\n",
    "#range(10000) is used to create an enumerator of 10000 elements\n",
    "#this is a \"trick\" to do the same thing 10000 times\n",
    "print('My enumerator container is: {}'.format(len(range(10000))))\n",
    "for value in range(10000):\n",
    "    sample = np.random.choice(students, 5, replace=True)\n",
    "    #here we append the operation to the initially empty array sample_pros. \n",
    "    #every time we run the loop we create a five value sample taken from our student array\n",
    "    #We do this for 10 000 times and i save the mean of those samples in my sample_props list\n",
    "    sample_props.append(sample.mean())\n",
    "    \n",
    "print('My last sample simulation is: {}'.format(sample)) #this prints the last sample\n",
    "print(sample_props[-5:])"
   ]
  },
  {
   "cell_type": "markdown",
   "metadata": {},
   "source": [
    "`4.` What is the mean proportion of all 10,000 of these proportions?  This is often called **the mean of the sampling distribution**."
   ]
  },
  {
   "cell_type": "code",
   "execution_count": 8,
   "metadata": {},
   "outputs": [
    {
     "name": "stdout",
     "output_type": "stream",
     "text": [
      "[0.6 0.4 0.4 0.8 1. ]\n"
     ]
    }
   ],
   "source": [
    "#Now we do the very same thing we have been doing with our student array before\n",
    "#with the sample_props list IMPORTANT! At the moment sample_props is a python list!\n",
    "#NOT a numpy array. Please recall that python can do little stuff with lists\n",
    "#We use NumPy to work with lists but to do so, we have to transform this to a np array:\n",
    "sample_props = np.array(sample_props) # transform sample_props from list to np array\n",
    "print(sample_props[0:5]) #notice how sample_props array is different to python list - no commas -\n",
    "#also recall that sample_props keeps the MEANS of each sample"
   ]
  },
  {
   "cell_type": "markdown",
   "metadata": {
    "collapsed": true
   },
   "source": [
    "`5.` What are the variance and standard deviation for the original 21 data values?"
   ]
  },
  {
   "cell_type": "code",
   "execution_count": 9,
   "metadata": {},
   "outputs": [
    {
     "name": "stdout",
     "output_type": "stream",
     "text": [
      "0.45175395145262565\n",
      "0.20408163265306126\n",
      "The standard deviation for the original data is 0.45175395145262565\n",
      "The variance for the original data is 0.20408163265306126\n"
     ]
    }
   ],
   "source": [
    "#recall that students is the initial list provided by Josh\n",
    "#We have not transformed that list to a numpy array so we work with python3 - not NumPy\n",
    "#lets calculate standard deviation and varance using general python3 then \n",
    "print(students.std())\n",
    "print(students.var())\n",
    "#lets make this a bit more goodloking ;-)\n",
    "print('The standard deviation for the original data is {}'.format(students.std()))\n",
    "print('The variance for the original data is {}'.format(students.var()))"
   ]
  },
  {
   "cell_type": "markdown",
   "metadata": {},
   "source": [
    "`6.` What are the variance and standard deviation for the 10,000 proportions you created?"
   ]
  },
  {
   "cell_type": "code",
   "execution_count": 10,
   "metadata": {},
   "outputs": [
    {
     "name": "stdout",
     "output_type": "stream",
     "text": [
      "0.2043624231604235\n",
      "0.041763999999999996\n"
     ]
    }
   ],
   "source": [
    "#We now go back to do the same thing with our sample_props NumPy array - NOT list :-)\n",
    "#recall sample_props is a list of means of the 10 000 samples generated - so 10 000 means\n",
    "print(sample_props.std()) \n",
    "print(sample_props.var())\n",
    "#COMPARE THE variance of the 10 000 samples in sample_props and students! "
   ]
  },
  {
   "cell_type": "markdown",
   "metadata": {},
   "source": [
    "`7.` Compute p(1-p), which of your answers does this most closely match?"
   ]
  },
  {
   "cell_type": "code",
   "execution_count": 11,
   "metadata": {},
   "outputs": [
    {
     "name": "stdout",
     "output_type": "stream",
     "text": [
      "0.20408163265306123\n",
      "The result of the calculation p(1-p) : 0.20408163265306123\n",
      "The standard deviation of my students list is: 0.20408163265306126\n"
     ]
    }
   ],
   "source": [
    "# Recall when Sebastian was talking about probability. \n",
    "#Here's Josh on 1-p https://youtu.be/dsVKoXymYDU\n",
    "print(p*(1-p)) \n",
    "#The result is the variance of our initial students list\n",
    "print('The result of the calculation p(1-p) : {}'.format(p*(1-p)))\n",
    "print('The standard deviation of my students list is: {}'.format(students.var()))\n",
    "#It's the SAME!!!"
   ]
  },
  {
   "cell_type": "markdown",
   "metadata": {},
   "source": [
    "`8.` Compute p(1-p)/n, which of your answers does this most closely match?"
   ]
  },
  {
   "cell_type": "code",
   "execution_count": 12,
   "metadata": {},
   "outputs": [
    {
     "name": "stdout",
     "output_type": "stream",
     "text": [
      "The result of the calculation p(1-p)/n where n = 5 (sample size) : 0.04081632653061225\n",
      "Hey look at the variance of my 10 000 samples of 5, all taken from the students list!: 0.041763999999999996\n",
      "This is MAGIC\n"
     ]
    }
   ],
   "source": [
    "#REMEMBER n = sample size ok? So in our case n = 5\n",
    "#We have produced 10 000 samples\n",
    "#Each one holds 5 students. This is our sample.\n",
    "#Our population is 21 students in the initial list\n",
    "#Recall: Population is 21 students. Sample is 5 students. n = 5!!! We have 10 000 of them!\n",
    "calc = p*(1-p)/5\n",
    "print('The result of the calculation p(1-p)/n where n = 5 (sample size) : {}'.format(calc))\n",
    "print('Hey look at the variance of my 10 000 samples of 5, all taken from the students list!: {}'.format(sample_props.var()))\n",
    "print('This is MAGIC')"
   ]
  },
  {
   "cell_type": "markdown",
   "metadata": {},
   "source": [
    "`9.` Notice that your answer to `8.` is commonly called the **variance of the sampling distribution**.  If you were to change your first sample to be 20, what would this do for the variance of the sampling distribution?  Simulate and calculate the new answers in `6.` and `8.` to check that the consistency you found before still holds."
   ]
  },
  {
   "cell_type": "code",
   "execution_count": 13,
   "metadata": {},
   "outputs": [],
   "source": [
    "##Simulate your 20 draws\n",
    "#Ok let's do what Josh is suggesting\n",
    "sample_props_20 = []\n",
    "for value in range(10000):\n",
    "    sample = np.random.choice(students, 20, replace=True)\n",
    "    sample_props_20.append(sample.mean())\n",
    "# I mean we have a population of 21 people and we take a sample of 20."
   ]
  },
  {
   "cell_type": "code",
   "execution_count": 14,
   "metadata": {},
   "outputs": [
    {
     "name": "stdout",
     "output_type": "stream",
     "text": [
      "The variance of the sampling distribution of the mean of 20 draws is 0.010300994374999999\n",
      "The result of the calculation p(1-p)/20 is 0.010204081632653062\n"
     ]
    }
   ],
   "source": [
    "##Compare your variance values as computed in 6 and 8, \n",
    "##but with your sample of 20 values\n",
    "#Does it make sense to take huge samples? Whats the point? What's my insight?\n",
    "calc0 = (p*(1-p)/20)\n",
    "calc1 = np.array(sample_props_20).var() \n",
    "print('The variance of the sampling distribution of the mean of 20 draws is {}'.format(calc1))\n",
    "print('The result of the calculation p(1-p)/20 is {}'.format(calc0))\n",
    "\n"
   ]
  },
  {
   "cell_type": "markdown",
   "metadata": {},
   "source": [
    "`10.` Finally, plot a histgram of the 10,000 draws from both the proportions with a sample size of 5 and the proportions with a sample size of 20.  Each of these distributions is a sampling distribution.  One is for the proportions of sample size 5 and the other a sampling distribution for proportions with sample size 20."
   ]
  },
  {
   "cell_type": "code",
   "execution_count": 15,
   "metadata": {},
   "outputs": [
    {
     "data": {
      "image/png": "[encoded data removed]",
      "text/plain": [
       "<Figure size 432x288 with 1 Axes>"
      ]
     },
     "metadata": {
      "needs_background": "light"
     },
     "output_type": "display_data"
    }
   ],
   "source": [
    "plt.hist(sample_props, alpha=.5);\n",
    "plt.hist(np.array(sample_props_20), alpha=.5);\n",
    "#  The blue is NOT normally distributed\n",
    "# The orange Yes\n",
    "# Given what we know so far about the Central Limit Theorem which path would you trust?"
   ]
  },
  {
   "cell_type": "code",
   "execution_count": null,
   "metadata": {},
   "outputs": [],
   "source": []
  }
 ],
 "metadata": {
  "kernelspec": {
   "display_name": "Python 3",
   "language": "python",
   "name": "python3"
  },
  "language_info": {
   "codemirror_mode": {
    "name": "ipython",
    "version": 3
   },
   "file_extension": ".py",
   "mimetype": "text/x-python",
   "name": "python",
   "nbconvert_exporter": "python",
   "pygments_lexer": "ipython3",
   "version": "3.7.2"
  }
 },
 "nbformat": 4,
 "nbformat_minor": 2
}
